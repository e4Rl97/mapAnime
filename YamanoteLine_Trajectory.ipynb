{
 "cells": [
  {
   "cell_type": "markdown",
   "metadata": {},
   "source": [
    "# Yamanote Line Trajectory Map"
   ]
  },
  {
   "cell_type": "markdown",
   "metadata": {},
   "source": [
    "##  Timestamped GeoJSON"
   ]
  },
  {
   "cell_type": "code",
   "execution_count": 1,
   "metadata": {},
   "outputs": [
    {
     "name": "stdout",
     "output_type": "stream",
     "text": [
      "folium version: 0.10.1\n"
     ]
    }
   ],
   "source": [
    "import os\n",
    "\n",
    "import numpy as np\n",
    "import pandas as pd\n",
    "\n",
    "import folium\n",
    "from folium import plugins\n",
    "\n",
    "print('folium version:', folium.__version__)"
   ]
  },
  {
   "cell_type": "code",
   "execution_count": 2,
   "metadata": {},
   "outputs": [
    {
     "name": "stdout",
     "output_type": "stream",
     "text": [
      "   station                dates        lat        long\n",
      "0       大崎  2017-06-02T10:00:00  35.619700  139.728553\n",
      "1      五反田  2017-06-02T11:00:00  35.626446  139.723444\n",
      "2       目黒  2017-06-02T12:00:00  35.633998  139.715828\n",
      "3      恵比寿  2017-06-02T13:00:00  35.646690  139.710106\n",
      "4       渋谷  2017-06-02T14:00:00  35.658517  139.701334\n",
      "5       原宿  2017-06-02T15:00:00  35.670168  139.702687\n",
      "6      代々木  2017-06-02T16:00:00  35.683061  139.702042\n",
      "7       新宿  2017-06-02T17:00:00  35.690921  139.700258\n",
      "8     新大久保  2017-06-02T18:00:00  35.701306  139.700044\n",
      "9     高田馬場  2017-06-02T19:00:00  35.712285  139.703782\n",
      "10      目白  2017-06-02T20:00:00  35.721204  139.706587\n",
      "11      池袋  2017-06-02T21:00:00  35.728926  139.710380\n",
      "12      大塚  2017-06-02T22:00:00  35.731590  139.729329\n",
      "13      巣鴨  2017-06-02T23:00:00  35.733492  139.739345\n",
      "14      駒込  2017-06-03T00:00:00  35.736489  139.746875\n",
      "15      田端  2017-06-03T01:00:00  35.738062  139.760860\n",
      "16    西日暮里  2017-06-03T02:00:00  35.732135  139.766787\n",
      "17     日暮里  2017-06-03T03:00:00  35.727772  139.770987\n",
      "18      鶯谷  2017-06-03T04:00:00  35.720495  139.778837\n",
      "19      上野  2017-06-03T05:00:00  35.713768  139.777254\n",
      "20     御徒町  2017-06-03T06:00:00  35.707893  139.774332\n",
      "21     秋葉原  2017-06-03T07:00:00  35.698683  139.774219\n",
      "22      神田  2017-06-03T08:00:00  35.691690  139.770883\n",
      "23      東京  2017-06-03T09:00:00  35.681382  139.766084\n",
      "24     有楽町  2017-06-03T10:00:00  35.675069  139.763328\n",
      "25      新橋  2017-06-03T11:00:00  35.665498  139.759640\n",
      "26     浜松町  2017-06-03T12:00:00  35.655646  139.756749\n",
      "27      田町  2017-06-03T13:00:00  35.645736  139.747575\n",
      "28      品川  2017-06-03T14:00:00  35.630152  139.740440\n",
      "29      大崎  2017-06-03T15:00:00  35.619700  139.728553\n"
     ]
    }
   ],
   "source": [
    "df = pd.read_csv('山手線_shift.csv',\n",
    "                 header = None,\n",
    "                 names = ('station', 'dates', 'lat', 'long'),\n",
    "                 encoding = 'SHIFT-JIS')\n",
    "print(df)\n",
    "\n",
    "# 日時データのみ抽出\n",
    "df_date = df['dates']\n",
    "\n",
    "# 緯度・経度データのみ抽出\n",
    "df_lat = df['lat']\n",
    "df_lon = df['long']"
   ]
  },
  {
   "cell_type": "code",
   "execution_count": 3,
   "metadata": {
    "scrolled": false
   },
   "outputs": [
    {
     "data": {
      "text/html": [
       "<div style=\"width:100%;\"><div style=\"position:relative;width:100%;height:0;padding-bottom:60%;\"><iframe src=\"about:blank\" style=\"position:absolute;width:100%;height:100%;left:0;top:0;border:none !important;\" data-html=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 onload=\"this.contentDocument.open();this.contentDocument.write(atob(this.getAttribute('data-html')));this.contentDocument.close();\" allowfullscreen webkitallowfullscreen mozallowfullscreen></iframe></div></div>"
      ],
      "text/plain": [
       "<folium.folium.Map at 0x224e4724fc8>"
      ]
     },
     "execution_count": 3,
     "metadata": {},
     "output_type": "execute_result"
    }
   ],
   "source": [
    "# mapオブジェクトを定義\n",
    "trajMap = folium.Map(\n",
    "    # 新しい地図を作るときの中央にくる緯度と経度を入れる\n",
    "    location = [35.6778658 , 139.73857073333332],\n",
    "    # はじめに表示するときの縮尺を設定する\n",
    "    zoom_start = 12\n",
    ")\n",
    "\n",
    "# linesを繰り返し代入する空のリストを定義\n",
    "# for文の外で定義しなければならない\n",
    "lines = []\n",
    "# data frameの行数より1少ない値分繰り返す\n",
    "for i in range(len(df) - 1):\n",
    "    # 緯度・経度を'lines'に入れる(linesは辞書型リスト)\n",
    "    line = [\n",
    "        {\n",
    "            # 座標点 *** 経度, 緯度の順番でリストに入れなければならない点に注意! ***\n",
    "            'coordinates':[\n",
    "                [df_lon.iloc[i], df_lat.iloc[i]], \n",
    "                [df_lon.iloc[i + 1], df_lat.iloc[i + 1]]\n",
    "            ],\n",
    "            # 日時\n",
    "            'dates':[\n",
    "                df_date.iloc[i],\n",
    "                df_date.iloc[i + 1]\n",
    "            ],\n",
    "            # 線色\n",
    "            'color': '#669DF6',\n",
    "            # 線の太さ\n",
    "            'weight': 5\n",
    "        }\n",
    "    ] # ----- line END -----\n",
    "    lines.extend(line)\n",
    "\n",
    "# featuresに入れる際に参照するlineオブジェクトを初期化\n",
    "line = []\n",
    "# featureを繰り返し代入するfeaturesリストを定義\n",
    "# featuresの空のリストを定義\n",
    "features = []\n",
    "for line in lines:\n",
    "    feature = [\n",
    "        {\n",
    "            'type': 'Feature',\n",
    "            'geometry': {\n",
    "                'type': 'LineString',\n",
    "                'coordinates':line['coordinates'],\n",
    "            },\n",
    "            'properties': {\n",
    "                'times': line['dates'],\n",
    "                'style': {\n",
    "                    'color': line['color'],\n",
    "                    'weight': line['weight']\n",
    "                }\n",
    "            }\n",
    "        }\n",
    "    ] # ----- feature END -----\n",
    "    features.extend(feature)\n",
    "\n",
    "# folium plugin \n",
    "plugins.TimestampedGeoJson(\n",
    "    {\n",
    "        'type': 'FeatureCollection',\n",
    "        'features': features,\n",
    "    }, \n",
    "    period = 'PT1M', \n",
    "    add_last_point = True).add_to(trajMap)\n",
    "\n",
    "# trajMap.save('trajMap.html')\n",
    "trajMap"
   ]
  }
 ],
 "metadata": {
  "kernelspec": {
   "display_name": "Python 3",
   "language": "python",
   "name": "python3"
  },
  "language_info": {
   "codemirror_mode": {
    "name": "ipython",
    "version": 3
   },
   "file_extension": ".py",
   "mimetype": "text/x-python",
   "name": "python",
   "nbconvert_exporter": "python",
   "pygments_lexer": "ipython3",
   "version": "3.7.6"
  }
 },
 "nbformat": 4,
 "nbformat_minor": 2
}
